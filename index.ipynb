{
 "cells": [
  {
   "cell_type": "markdown",
   "metadata": {},
   "source": [
    "# Project Title\n",
    "\n",
    "**Authors:** Charles Ndegwa\n",
    "***"
   ]
  },
  {
   "cell_type": "markdown",
   "metadata": {},
   "source": [
    "## Overview\n",
    "\n",
    "A one-paragraph overview of the project, including the business problem, data, methods, results and recommendations."
   ]
  },
  {
   "cell_type": "markdown",
   "metadata": {},
   "source": [
    "## Business Problem\n",
    "\n",
    "Summary of the business problem you are trying to solve, and the data questions that you plan to answer to solve them.\n",
    "\n",
    "***\n",
    "Questions to consider:\n",
    "* What are the business's pain points related to this project?\n",
    "* How did you pick the data analysis question(s) that you did?\n",
    "* Why are these questions important from a business perspective?\n",
    "***"
   ]
  },
  {
   "cell_type": "markdown",
   "metadata": {},
   "source": [
    "## Data Understanding\n",
    "\n",
    "Describe the data being used for this project.\n",
    "***\n",
    "Questions to consider:\n",
    "* Where did the data come from, and how do they relate to the data analysis questions?\n",
    "* What do the data represent? Who is in the sample and what variables are included?\n",
    "* What is the target variable?\n",
    "* What are the properties of the variables you intend to use?\n",
    "***"
   ]
  },
  {
   "cell_type": "code",
   "execution_count": 12,
   "metadata": {},
   "outputs": [],
   "source": [
    "# Import standard packages\n",
    "import pandas as pd\n",
    "import numpy as np\n",
    "import matplotlib.pyplot as plt\n",
    "import seaborn as sns\n",
    "\n",
    "%matplotlib inline"
   ]
  },
  {
   "cell_type": "code",
   "execution_count": 13,
   "metadata": {},
   "outputs": [],
   "source": [
    "# Here you run your code to explore the data\n",
    "filepath_people ='/Users/ndegwa/Documents/GitHub/Moringa/Phase 3/Phase3Project/Phase3Project-CarCrashPredictions/data/Traffic_Crashes_-_People_20240821.csv'\n",
    "filepath_vehicles='/Users/ndegwa/Documents/GitHub/Moringa/Phase 3/Phase3Project/Phase3Project-CarCrashPredictions/data/Traffic_Crashes_-_Vehicles_20240821.csv'\n",
    "filepath_crashes='/Users/ndegwa/Documents/GitHub/Moringa/Phase 3/Phase3Project/Phase3Project-CarCrashPredictions/data/Traffic_Crashes_-_Crashes_20240826.csv'"
   ]
  },
  {
   "cell_type": "code",
   "execution_count": 17,
   "metadata": {},
   "outputs": [
    {
     "name": "stdout",
     "output_type": "stream",
     "text": [
      "<class 'pandas.core.frame.DataFrame'>\n",
      "RangeIndex: 866411 entries, 0 to 866410\n",
      "Data columns (total 48 columns):\n",
      " #   Column                         Non-Null Count   Dtype  \n",
      "---  ------                         --------------   -----  \n",
      " 0   CRASH_RECORD_ID                866411 non-null  object \n",
      " 1   CRASH_DATE_EST_I               64356 non-null   object \n",
      " 2   CRASH_DATE                     866411 non-null  object \n",
      " 3   POSTED_SPEED_LIMIT             866411 non-null  int64  \n",
      " 4   TRAFFIC_CONTROL_DEVICE         866411 non-null  object \n",
      " 5   DEVICE_CONDITION               866411 non-null  object \n",
      " 6   WEATHER_CONDITION              866411 non-null  object \n",
      " 7   LIGHTING_CONDITION             866411 non-null  object \n",
      " 8   FIRST_CRASH_TYPE               866411 non-null  object \n",
      " 9   TRAFFICWAY_TYPE                866411 non-null  object \n",
      " 10  LANE_CNT                       199015 non-null  float64\n",
      " 11  ALIGNMENT                      866411 non-null  object \n",
      " 12  ROADWAY_SURFACE_COND           866411 non-null  object \n",
      " 13  ROAD_DEFECT                    866411 non-null  object \n",
      " 14  REPORT_TYPE                    840008 non-null  object \n",
      " 15  CRASH_TYPE                     866411 non-null  object \n",
      " 16  INTERSECTION_RELATED_I         198603 non-null  object \n",
      " 17  NOT_RIGHT_OF_WAY_I             39667 non-null   object \n",
      " 18  HIT_AND_RUN_I                  271579 non-null  object \n",
      " 19  DAMAGE                         866411 non-null  object \n",
      " 20  DATE_POLICE_NOTIFIED           866411 non-null  object \n",
      " 21  PRIM_CONTRIBUTORY_CAUSE        866411 non-null  object \n",
      " 22  SEC_CONTRIBUTORY_CAUSE         866411 non-null  object \n",
      " 23  STREET_NO                      866411 non-null  int64  \n",
      " 24  STREET_DIRECTION               866407 non-null  object \n",
      " 25  STREET_NAME                    866410 non-null  object \n",
      " 26  BEAT_OF_OCCURRENCE             866406 non-null  float64\n",
      " 27  PHOTOS_TAKEN_I                 11675 non-null   object \n",
      " 28  STATEMENTS_TAKEN_I             19762 non-null   object \n",
      " 29  DOORING_I                      2719 non-null    object \n",
      " 30  WORK_ZONE_I                    4898 non-null    object \n",
      " 31  WORK_ZONE_TYPE                 3780 non-null    object \n",
      " 32  WORKERS_PRESENT_I              1255 non-null    object \n",
      " 33  NUM_UNITS                      866411 non-null  int64  \n",
      " 34  MOST_SEVERE_INJURY             864495 non-null  object \n",
      " 35  INJURIES_TOTAL                 864508 non-null  float64\n",
      " 36  INJURIES_FATAL                 864508 non-null  float64\n",
      " 37  INJURIES_INCAPACITATING        864508 non-null  float64\n",
      " 38  INJURIES_NON_INCAPACITATING    864508 non-null  float64\n",
      " 39  INJURIES_REPORTED_NOT_EVIDENT  864508 non-null  float64\n",
      " 40  INJURIES_NO_INDICATION         864508 non-null  float64\n",
      " 41  INJURIES_UNKNOWN               864508 non-null  float64\n",
      " 42  CRASH_HOUR                     866411 non-null  int64  \n",
      " 43  CRASH_DAY_OF_WEEK              866411 non-null  int64  \n",
      " 44  CRASH_MONTH                    866411 non-null  int64  \n",
      " 45  LATITUDE                       860273 non-null  float64\n",
      " 46  LONGITUDE                      860273 non-null  float64\n",
      " 47  LOCATION                       860273 non-null  object \n",
      "dtypes: float64(11), int64(6), object(31)\n",
      "memory usage: 317.3+ MB\n"
     ]
    }
   ],
   "source": [
    "# Replace None with appropriate code\n",
    "data_people= pd.read_csv(filepath_people)\n",
    "data_vehicle = pd.read_csv(filepath_vehicles)\n",
    "data_crashes = pd.read_csv(filepath_crashes)\n",
    "data_crashes.info()"
   ]
  },
  {
   "cell_type": "code",
   "execution_count": 18,
   "metadata": {},
   "outputs": [
    {
     "name": "stdout",
     "output_type": "stream",
     "text": [
      "<class 'pandas.core.frame.DataFrame'>\n",
      "RangeIndex: 492730 entries, 0 to 492729\n",
      "Data columns (total 29 columns):\n",
      " #   Column                 Non-Null Count   Dtype  \n",
      "---  ------                 --------------   -----  \n",
      " 0   PERSON_ID              492730 non-null  object \n",
      " 1   PERSON_TYPE            492726 non-null  object \n",
      " 2   CRASH_RECORD_ID        492726 non-null  object \n",
      " 3   VEHICLE_ID             483109 non-null  float64\n",
      " 4   CRASH_DATE             492725 non-null  object \n",
      " 5   SEAT_NO                112113 non-null  float64\n",
      " 6   CITY                   344136 non-null  object \n",
      " 7   STATE                  351773 non-null  object \n",
      " 8   ZIPCODE                311212 non-null  object \n",
      " 9   SEX                    484313 non-null  object \n",
      " 10  AGE                    335407 non-null  float64\n",
      " 11  DRIVERS_LICENSE_STATE  269378 non-null  object \n",
      " 12  DRIVERS_LICENSE_CLASS  217832 non-null  object \n",
      " 13  SAFETY_EQUIPMENT       491321 non-null  object \n",
      " 14  AIRBAG_DEPLOYED        483940 non-null  object \n",
      " 15  EJECTION               487046 non-null  object \n",
      " 16  INJURY_CLASSIFICATION  492578 non-null  object \n",
      " 17  HOSPITAL               83982 non-null   object \n",
      " 18  EMS_AGENCY             51167 non-null   object \n",
      " 19  EMS_RUN_NO             10429 non-null   object \n",
      " 20  DRIVER_ACTION          379719 non-null  object \n",
      " 21  DRIVER_VISION          379535 non-null  object \n",
      " 22  PHYSICAL_CONDITION     379958 non-null  object \n",
      " 23  PEDPEDAL_ACTION        8666 non-null    object \n",
      " 24  PEDPEDAL_VISIBILITY    8657 non-null    object \n",
      " 25  PEDPEDAL_LOCATION      8665 non-null    object \n",
      " 26  BAC_RESULT             379699 non-null  object \n",
      " 27  BAC_RESULT VALUE       585 non-null     float64\n",
      " 28  CELL_PHONE_USE         18 non-null      object \n",
      "dtypes: float64(4), object(25)\n",
      "memory usage: 109.0+ MB\n"
     ]
    }
   ],
   "source": [
    "data_people.info()"
   ]
  },
  {
   "cell_type": "code",
   "execution_count": 19,
   "metadata": {},
   "outputs": [
    {
     "data": {
      "text/plain": [
       "WESTERN AVE        23630\n",
       "PULASKI RD         20887\n",
       "CICERO AVE         19420\n",
       "ASHLAND AVE        18830\n",
       "HALSTED ST         16776\n",
       "                   ...  \n",
       "CHECKPOINT 5 ST        1\n",
       "ARCADE PL              1\n",
       "ABBOTT AVE             1\n",
       "LASALLE ST             1\n",
       "OHARE AVE.             1\n",
       "Name: STREET_NAME, Length: 1645, dtype: int64"
      ]
     },
     "execution_count": 19,
     "metadata": {},
     "output_type": "execute_result"
    }
   ],
   "source": [
    "data_crashes.STREET_NAME.value_counts()"
   ]
  },
  {
   "cell_type": "code",
   "execution_count": 22,
   "metadata": {},
   "outputs": [
    {
     "data": {
      "text/plain": [
       "NO INDICATION OF INJURY     743682\n",
       "NONINCAPACITATING INJURY     67971\n",
       "REPORTED, NOT EVIDENT        37322\n",
       "INCAPACITATING INJURY        14568\n",
       "FATAL                          952\n",
       "Name: MOST_SEVERE_INJURY, dtype: int64"
      ]
     },
     "execution_count": 22,
     "metadata": {},
     "output_type": "execute_result"
    }
   ],
   "source": [
    "data_crashes.MOST_SEVERE_INJURY.value_counts()"
   ]
  },
  {
   "cell_type": "code",
   "execution_count": 26,
   "metadata": {},
   "outputs": [
    {
     "data": {
      "text/plain": [
       "<AxesSubplot:>"
      ]
     },
     "execution_count": 26,
     "metadata": {},
     "output_type": "execute_result"
    },
    {
     "data": {
      "image/png": "[encoded data removed]",
      "text/plain": [
       "<Figure size 432x288 with 1 Axes>"
      ]
     },
     "metadata": {
      "needs_background": "light"
     },
     "output_type": "display_data"
    }
   ],
   "source": [
    "data_people.INJURY_CLASSIFICATION.value_counts().plot.barh()"
   ]
  },
  {
   "cell_type": "code",
   "execution_count": 24,
   "metadata": {},
   "outputs": [
    {
     "data": {
      "text/plain": [
       "0.0    864508\n",
       "Name: INJURIES_UNKNOWN, dtype: int64"
      ]
     },
     "execution_count": 24,
     "metadata": {},
     "output_type": "execute_result"
    }
   ],
   "source": [
    "data_crashes.INJURIES_UNKNOWN.value_counts()"
   ]
  },
  {
   "cell_type": "markdown",
   "metadata": {},
   "source": [
    "## Data Preparation\n",
    "\n",
    "Describe and justify the process for preparing the data for analysis.\n",
    "\n",
    "***\n",
    "Questions to consider:\n",
    "* Were there variables you dropped or created?\n",
    "* How did you address missing values or outliers?\n",
    "* Why are these choices appropriate given the data and the business problem?\n",
    "***"
   ]
  },
  {
   "cell_type": "code",
   "execution_count": 15,
   "metadata": {},
   "outputs": [],
   "source": [
    "# Here you run your code to clean the data"
   ]
  },
  {
   "cell_type": "markdown",
   "metadata": {},
   "source": [
    "## Data Modeling\n",
    "Describe and justify the process for analyzing or modeling the data.\n",
    "\n",
    "***\n",
    "Questions to consider:\n",
    "* How did you analyze or model the data?\n",
    "* How did you iterate on your initial approach to make it better?\n",
    "* Why are these choices appropriate given the data and the business problem?\n",
    "***"
   ]
  },
  {
   "cell_type": "code",
   "execution_count": 16,
   "metadata": {},
   "outputs": [],
   "source": [
    "# Here you run your code to model the data\n"
   ]
  },
  {
   "cell_type": "markdown",
   "metadata": {},
   "source": [
    "## Evaluation\n",
    "Evaluate how well your work solves the stated business problem.\n",
    "\n",
    "***\n",
    "Questions to consider:\n",
    "* How do you interpret the results?\n",
    "* How well does your model fit your data? How much better is this than your baseline model?\n",
    "* How confident are you that your results would generalize beyond the data you have?\n",
    "* How confident are you that this model would benefit the business if put into use?\n",
    "***"
   ]
  },
  {
   "cell_type": "markdown",
   "metadata": {},
   "source": [
    "## Conclusions\n",
    "Provide your conclusions about the work you've done, including any limitations or next steps.\n",
    "\n",
    "***\n",
    "Questions to consider:\n",
    "* What would you recommend the business do as a result of this work?\n",
    "* What are some reasons why your analysis might not fully solve the business problem?\n",
    "* What else could you do in the future to improve this project?\n",
    "***"
   ]
  }
 ],
 "metadata": {
  "kernelspec": {
   "display_name": "Python 3",
   "language": "python",
   "name": "python3"
  },
  "language_info": {
   "codemirror_mode": {
    "name": "ipython",
    "version": 3
   },
   "file_extension": ".py",
   "mimetype": "text/x-python",
   "name": "python",
   "nbconvert_exporter": "python",
   "pygments_lexer": "ipython3",
   "version": "3.8.5"
  }
 },
 "nbformat": 4,
 "nbformat_minor": 4
}
